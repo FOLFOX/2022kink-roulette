{
 "cells": [
  {
   "cell_type": "code",
   "execution_count": 1,
   "metadata": {},
   "outputs": [],
   "source": [
    "# -*- coding: utf-8 -*-\n",
    "import pandas as pd\n",
    "import random"
   ]
  },
  {
   "cell_type": "code",
   "execution_count": 2,
   "metadata": {},
   "outputs": [],
   "source": [
    "df=pd.read_csv('./2022年新春性癖おみくじ企画.csv')\n",
    "df = df.replace({'Twitter ID': {'@': ''}}, regex=True)\n",
    "df = df.sort_values('Twitter ID')\n",
    "random.seed(df['好きな数'].sum())\n",
    "df['性癖1']=random.sample(list(df['性癖1']),len(df['性癖1']))\n",
    "df['性癖2']=random.sample(list(df['性癖2']),len(df['性癖2']))\n",
    "df['性癖3']=random.sample(list(df['性癖3']),len(df['性癖3']))"
   ]
  },
  {
   "cell_type": "code",
   "execution_count": 3,
   "metadata": {},
   "outputs": [
    {
     "name": "stdout",
     "output_type": "stream",
     "text": [
      "@dokuo350\n",
      "性癖1:眼鏡\n",
      "性癖2:複乳\n",
      "性癖3:貞操帯\n",
      "@gyurinos\n",
      "性癖1:シャチおむつ\n",
      "性癖2:淫紋\n",
      "性癖3:人格排泄\n",
      "@hydroxyquinol\n",
      "性癖1:天使\n",
      "性癖2:羞恥\n",
      "性癖3:服越し母乳\n",
      "@nonshinonome\n",
      "性癖1:和室\n",
      "性癖2:スライム排泄\n",
      "性癖3:肉便器\n",
      "@sukumizu17\n",
      "性癖1:青肌\n",
      "性癖2:巨玉\n",
      "性癖3:母乳\n",
      "@zyasumintea008\n",
      "性癖1:メスケモ\n",
      "性癖2:イチャラブ\n",
      "性癖3:玉責め\n"
     ]
    }
   ],
   "source": [
    "for l in df.itertuples():\n",
    "    print('@'+l[3])\n",
    "    print('性癖1:'+l[6])\n",
    "    print('性癖2:'+l[7])\n",
    "    print('性癖3:'+l[8])"
   ]
  },
  {
   "cell_type": "code",
   "execution_count": null,
   "metadata": {},
   "outputs": [],
   "source": []
  }
 ],
 "metadata": {
  "kernelspec": {
   "display_name": "Python 3",
   "language": "python",
   "name": "python3"
  },
  "language_info": {
   "codemirror_mode": {
    "name": "ipython",
    "version": 3
   },
   "file_extension": ".py",
   "mimetype": "text/x-python",
   "name": "python",
   "nbconvert_exporter": "python",
   "pygments_lexer": "ipython3",
   "version": "3.8.3"
  }
 },
 "nbformat": 4,
 "nbformat_minor": 4
}
